{
 "cells": [
  {
   "cell_type": "code",
   "execution_count": 1,
   "id": "65c6c05f-22d7-4abc-ac80-6ac4c8593829",
   "metadata": {},
   "outputs": [],
   "source": [
    "from IPython.display import display, Math"
   ]
  },
  {
   "cell_type": "markdown",
   "id": "6dfaa045-beb5-4d3e-852b-05dcbc425ae3",
   "metadata": {},
   "source": [
    "# Esta libreta servira para ir probando diferentes ideas"
   ]
  },
  {
   "cell_type": "markdown",
   "id": "71d85eb8-f3de-46d9-bfd7-cf29b27a4d79",
   "metadata": {},
   "source": [
    "Mi objetivo es crear un metodo al que pasando la expresion y sus variables muestre la expresion matematica usando display y Math"
   ]
  },
  {
   "cell_type": "code",
   "execution_count": 9,
   "id": "06f3c234-db5c-4c80-8b53-4956755b2dbe",
   "metadata": {},
   "outputs": [],
   "source": [
    "def impMat(expresion,variables):\n",
    "    display(Math(expresion %variables))"
   ]
  },
  {
   "cell_type": "code",
   "execution_count": 29,
   "id": "d665c6e0-8427-4091-9c80-8f3e09d49d09",
   "metadata": {},
   "outputs": [
    {
     "data": {
      "text/latex": [
       "$\\displaystyle 3 + 4= 7$"
      ],
      "text/plain": [
       "<IPython.core.display.Math object>"
      ]
     },
     "metadata": {},
     "output_type": "display_data"
    }
   ],
   "source": [
    "expresion = '%g + %g= %g'\n",
    "variables = (3,4,7)\n",
    "impMat(expresion,variables)"
   ]
  },
  {
   "cell_type": "code",
   "execution_count": 23,
   "id": "78134d45-d8b6-4bc8-a9b4-2d95dcb79883",
   "metadata": {},
   "outputs": [
    {
     "data": {
      "text/plain": [
       "['Sexto', 'Cuarto', 'Segundo']"
      ]
     },
     "execution_count": 23,
     "metadata": {},
     "output_type": "execute_result"
    }
   ],
   "source": [
    "lista = ['Primero','Segundo','Tercero','Cuarto','Quinto','Sexto']\n",
    "n,k = 2,4\n",
    "lista[n:k]\n",
    "lista[::-2]"
   ]
  },
  {
   "cell_type": "code",
   "execution_count": null,
   "id": "622a3fd4-be3b-43ed-b520-925bf79434b4",
   "metadata": {},
   "outputs": [],
   "source": []
  }
 ],
 "metadata": {
  "kernelspec": {
   "display_name": "Python 3 (ipykernel)",
   "language": "python",
   "name": "python3"
  },
  "language_info": {
   "codemirror_mode": {
    "name": "ipython",
    "version": 3
   },
   "file_extension": ".py",
   "mimetype": "text/x-python",
   "name": "python",
   "nbconvert_exporter": "python",
   "pygments_lexer": "ipython3",
   "version": "3.11.5"
  }
 },
 "nbformat": 4,
 "nbformat_minor": 5
}
