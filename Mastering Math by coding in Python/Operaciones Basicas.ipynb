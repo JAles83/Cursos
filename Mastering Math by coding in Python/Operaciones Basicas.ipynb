{
 "cells": [
  {
   "cell_type": "code",
   "execution_count": 186,
   "id": "73c7acf5-67ce-4143-af37-10ab03c5c51a",
   "metadata": {},
   "outputs": [],
   "source": [
    "from IPython.display import display, Math\n",
    "from numpy import random"
   ]
  },
  {
   "cell_type": "markdown",
   "id": "67b5163a-a614-4832-b52e-7b33640ee5f8",
   "metadata": {},
   "source": [
    "La siguietne celda mostrar un ejemplo de la funcion importada `display`"
   ]
  },
  {
   "cell_type": "code",
   "execution_count": 27,
   "id": "b4cf98ed-e6b2-441f-8f58-d7706a622a4a",
   "metadata": {},
   "outputs": [
    {
     "data": {
      "text/plain": [
       "'4 + 3 = 7'"
      ]
     },
     "metadata": {},
     "output_type": "display_data"
    }
   ],
   "source": [
    "display('4 + 3 = ' + str( 4+3))"
   ]
  },
  {
   "cell_type": "markdown",
   "id": "e9324de3-0e30-4d65-8394-e5da348a69ca",
   "metadata": {},
   "source": [
    "La siguiente celda muestra un ejemplo de combinar la funcion Math con display"
   ]
  },
  {
   "cell_type": "code",
   "execution_count": 28,
   "id": "dd42b904-ecad-4220-a869-2e8f69177f73",
   "metadata": {},
   "outputs": [
    {
     "data": {
      "text/latex": [
       "$\\displaystyle 4 + 3 = 7$"
      ],
      "text/plain": [
       "<IPython.core.display.Math object>"
      ]
     },
     "metadata": {},
     "output_type": "display_data"
    }
   ],
   "source": [
    "display(Math('4 + 3 = 7'))"
   ]
  },
  {
   "cell_type": "markdown",
   "id": "0d25e192-bc3a-4043-948a-c63d831639d1",
   "metadata": {},
   "source": [
    "Creacion de variables"
   ]
  },
  {
   "cell_type": "code",
   "execution_count": 29,
   "id": "0ff901ce-e378-4f8b-8497-3720034f435a",
   "metadata": {},
   "outputs": [],
   "source": [
    "x = 4\n",
    "y = 3"
   ]
  },
  {
   "cell_type": "markdown",
   "id": "b44aba79-71da-4b71-a89f-0c0370c9af12",
   "metadata": {},
   "source": [
    "Uso de las variables con las funciones aprendidas"
   ]
  },
  {
   "cell_type": "code",
   "execution_count": null,
   "id": "b3bb1005-5b1e-47bf-af41-35bf1bd745bb",
   "metadata": {},
   "outputs": [],
   "source": [
    "display(Math(str(x) + '+' + str(y) + '=' + str(x+y))) "
   ]
  },
  {
   "cell_type": "code",
   "execution_count": 32,
   "id": "91aeb7d0-a949-43d8-8fc3-e662fb7c88fb",
   "metadata": {
    "scrolled": true
   },
   "outputs": [
    {
     "data": {
      "text/latex": [
       "$\\displaystyle 4 + 3 = 7$"
      ],
      "text/plain": [
       "<IPython.core.display.Math object>"
      ]
     },
     "metadata": {},
     "output_type": "display_data"
    }
   ],
   "source": [
    "display(Math('%g + %g = %g' %(x,y,x+y)))"
   ]
  },
  {
   "cell_type": "markdown",
   "id": "d3f17777-b254-45c1-95a7-28e6e8244745",
   "metadata": {},
   "source": [
    "Ahora usaremos $\\LaTeX$ con la funcion Math"
   ]
  },
  {
   "cell_type": "code",
   "execution_count": 39,
   "id": "ae3c12b5-4464-4f34-b358-167fbcfb397f",
   "metadata": {},
   "outputs": [
    {
     "data": {
      "text/latex": [
       "$\\displaystyle \\frac{4}{5} = 0.8$"
      ],
      "text/plain": [
       "<IPython.core.display.Math object>"
      ]
     },
     "metadata": {},
     "output_type": "display_data"
    }
   ],
   "source": [
    "# Presentaremos una forma de fraccion con las dos variables anteriores\n",
    "display(Math('\\\\frac{4}{5} = %g' %(4/5)))"
   ]
  },
  {
   "cell_type": "markdown",
   "id": "8b05aba1-6385-4cf2-a6f1-7dde054cd101",
   "metadata": {},
   "source": [
    "# Exponentes: \n",
    "En python se usa doble __*__ para representarlos. Para realizar las operaciones es importante recordar la regla de los exponentes:\n",
    "* $3^4\\cdot3^2=3^{4+2}=3^6$\n",
    "* $3^4\\div3^2=3^{4-2}=3^2$"
   ]
  },
  {
   "cell_type": "code",
   "execution_count": 61,
   "id": "6b8a5570-2d01-4af8-a95d-161d6fdb78b4",
   "metadata": {},
   "outputs": [
    {
     "data": {
      "text/latex": [
       "$\\displaystyle 3^4 \\times 3^2 = 729$"
      ],
      "text/plain": [
       "<IPython.core.display.Math object>"
      ]
     },
     "metadata": {},
     "output_type": "display_data"
    },
    {
     "data": {
      "text/latex": [
       "$\\displaystyle \\text{Mientras que }3^6 \\text{ es } 729$"
      ],
      "text/plain": [
       "<IPython.core.display.Math object>"
      ]
     },
     "metadata": {},
     "output_type": "display_data"
    },
    {
     "data": {
      "text/latex": [
       "$\\displaystyle 3^4 \\div 3^2 = 9$"
      ],
      "text/plain": [
       "<IPython.core.display.Math object>"
      ]
     },
     "metadata": {},
     "output_type": "display_data"
    },
    {
     "data": {
      "text/latex": [
       "$\\displaystyle \\text{Mientras que }3^2 \\text{ es } 9$"
      ],
      "text/plain": [
       "<IPython.core.display.Math object>"
      ]
     },
     "metadata": {},
     "output_type": "display_data"
    }
   ],
   "source": [
    "# Demostracion de las reglas de los exponentes\n",
    "tres_al_cuadrado = 3**2\n",
    "tres_a_la_cuarta = 3**4\n",
    "tres_a_la_sexta = 3**6\n",
    "display(Math('3^4 \\\\times 3^2 = %g' %(tres_a_la_cuarta*tres_al_cuadrado)))\n",
    "display(Math('\\\\text{Mientras que }3^6 \\\\text{ es } %g'%(tres_a_la_sexta)))\n",
    "display(Math('3^4 \\\\div 3^2 = %g' %(tres_a_la_cuarta/tres_al_cuadrado)))\n",
    "display(Math('\\\\text{Mientras que }3^2 \\\\text{ es } %g'%(tres_al_cuadrado)))"
   ]
  },
  {
   "cell_type": "markdown",
   "id": "c83563ae-8183-40be-8ed2-8d1d22e160ee",
   "metadata": {},
   "source": [
    "Como sabemos que $3^3= 3\\times3\\times3$. Podemos usar los bucles en python para calcular potencias y demostrar esta equivalencia matematica"
   ]
  },
  {
   "cell_type": "code",
   "execution_count": 100,
   "id": "5ff6fde9-3e15-4d8b-a9f2-b7e4dd5503a5",
   "metadata": {},
   "outputs": [
    {
     "data": {
      "text/latex": [
       "$\\displaystyle 3\\text{ } \\times\\text{ }3 \\times\\text{ }3 \\times\\text{ }3 \\times\\text{ }3 \\times\\text{ }3 \\times\\text{ }3 \\times\\text{ }3 \\times\\text{ }3 \\times\\text{ }3 \\times\\text{ }3 \\times\\text{ }3 \\times\\text{ }3 \\times\\text{ }3 \\times\\text{ }3 = 3^{15} = 14348907$"
      ],
      "text/plain": [
       "<IPython.core.display.Math object>"
      ]
     },
     "metadata": {},
     "output_type": "display_data"
    }
   ],
   "source": [
    "# variables\n",
    "base = 3\n",
    "exponente = 15\n",
    "resultado = 1\n",
    "expresion = ''\n",
    "\n",
    "for i in range(1,exponente+1):\n",
    "    resultado *= base\n",
    "   \n",
    "    if i==1:\n",
    "        expresion+='%g\\\\text{ }'%base\n",
    "    else:\n",
    "        expresion+=' \\\\times\\\\text{ }%g'%base\n",
    "\n",
    "expresion += ' = %g^{%g} = '%(base,exponente)\n",
    "display(Math(expresion+str(resultado)))"
   ]
  },
  {
   "cell_type": "markdown",
   "id": "cb415b2d-a650-4ae5-84bb-f046bca6d468",
   "metadata": {},
   "source": [
    "Es importante recordar el nombre de las operaciones, en ingles existe una regla nemotecnica que es:\n",
    "**Please Excuse My Dear Aunt Sally**\n",
    "* Parentesis\n",
    "* Exponentes\n",
    "* Multplicaciones\n",
    "* Divisiones\n",
    "* Sumas\n",
    "* Restas"
   ]
  },
  {
   "cell_type": "code",
   "execution_count": 101,
   "id": "e9353b47-f543-480b-b9c4-94aa48d5cd9c",
   "metadata": {},
   "outputs": [
    {
     "data": {
      "text/plain": [
       "9"
      ]
     },
     "execution_count": 101,
     "metadata": {},
     "output_type": "execute_result"
    }
   ],
   "source": [
    "4+3*2-1"
   ]
  },
  {
   "cell_type": "code",
   "execution_count": 108,
   "id": "e25d66f9-c3b1-44f5-bc99-7e8e869536e2",
   "metadata": {},
   "outputs": [
    {
     "data": {
      "text/plain": [
       "True"
      ]
     },
     "execution_count": 108,
     "metadata": {},
     "output_type": "execute_result"
    }
   ],
   "source": [
    "4>=4"
   ]
  },
  {
   "cell_type": "markdown",
   "id": "607e7232-da10-46ac-843d-bd2ab04ddca3",
   "metadata": {},
   "source": [
    "Es importante saber que el signo $\\leq$ o $\\geq$ en paython se hace con la combinacion de signos <= o >=, colocando el signo igual siempre detrás del menor o mayor que."
   ]
  },
  {
   "cell_type": "code",
   "execution_count": 109,
   "id": "73ba1f17-2d1a-495e-873e-28ad2a86f7e9",
   "metadata": {},
   "outputs": [
    {
     "data": {
      "text/plain": [
       "False"
      ]
     },
     "execution_count": 109,
     "metadata": {},
     "output_type": "execute_result"
    }
   ],
   "source": [
    "# podemos guardar en una variable el resultado de una comparacion\n",
    "bool = 4>=5\n",
    "bool"
   ]
  },
  {
   "cell_type": "code",
   "execution_count": 112,
   "id": "439092b2-aeaa-4ad5-954c-5fe36f9ad7a8",
   "metadata": {},
   "outputs": [
    {
     "data": {
      "text/plain": [
       "True"
      ]
     },
     "execution_count": 112,
     "metadata": {},
     "output_type": "execute_result"
    }
   ],
   "source": [
    "# Es importante recordar que para comparar igualdades tenemos que usar doble signo igual\n",
    "bool2 = 4==2+2\n",
    "bool2"
   ]
  },
  {
   "cell_type": "markdown",
   "id": "d217f0f5-ed46-458b-bacd-d2650234edcc",
   "metadata": {},
   "source": [
    "Es importante comprender las diferencias entre `if` `elif` y `else`\n",
    "* En el caso del `if` siempre comprobara la condición\n",
    "* En el caso del `elif`solo comprobara la condición cuando el if sea falso (ejemplo en la parte inferior)\n",
    "* El `else` cuando todos los if y elif a los que acompañan sean falsos"
   ]
  },
  {
   "cell_type": "code",
   "execution_count": 115,
   "id": "0780afdd-b9de-4c8c-b829-844902db50a8",
   "metadata": {},
   "outputs": [
    {
     "name": "stdout",
     "output_type": "stream",
     "text": [
      "Menor de 5\n"
     ]
    }
   ],
   "source": [
    "#variable\n",
    "x = 2\n",
    "\n",
    "if x < 5:\n",
    "    print('Menor de 5')\n",
    "elif x < 3:\n",
    "    print('Menor de tres')\n",
    "else:\n",
    "    print('Mayor de 5')"
   ]
  },
  {
   "cell_type": "markdown",
   "id": "e3a2875c-bea3-4e00-90e1-1b25a1db9958",
   "metadata": {},
   "source": [
    "Otros operadores que suelen aparecer con los if son las conjunciones `and` o `or`\n",
    "* `and` obliga que ambas expresiones sean verdaderas para que el resultado sea verdadero\n",
    "* `or` solo habiendo expresion verdadera el resultado sera verdadero"
   ]
  },
  {
   "cell_type": "code",
   "execution_count": 117,
   "id": "a07e7d4f-f7d4-47e6-8039-b3552fbaf04d",
   "metadata": {},
   "outputs": [
    {
     "name": "stdout",
     "output_type": "stream",
     "text": [
      "Es una mujer\n"
     ]
    }
   ],
   "source": [
    "genero = 'Mujer'\n",
    "nacionalidad = 'Marroqui'\n",
    "\n",
    "if genero == 'Mujer' and nacionalidad == 'Española':\n",
    "    print('Es una mujer española')\n",
    "if genero == 'Mujer' or nacionalidad == 'Española':\n",
    "    print('Es una mujer')"
   ]
  },
  {
   "cell_type": "markdown",
   "id": "f04e564f-a789-451e-b282-d635e6db4ad4",
   "metadata": {},
   "source": [
    "El valor absoluto de una numero es la distancia de este con respecto al origen en la recta de los numeros. En python este valor se calucla con la funcion abs()"
   ]
  },
  {
   "cell_type": "code",
   "execution_count": 120,
   "id": "266746d0-d875-48e6-ae47-d7eaa556ce57",
   "metadata": {},
   "outputs": [
    {
     "data": {
      "text/latex": [
       "$\\displaystyle |-345.654| = 345.654$"
      ],
      "text/plain": [
       "<IPython.core.display.Math object>"
      ]
     },
     "metadata": {},
     "output_type": "display_data"
    }
   ],
   "source": [
    "num = -345.654\n",
    "abs_num = abs(num)\n",
    "display(Math('|%g| = %g' %(num,abs_num)))"
   ]
  },
  {
   "cell_type": "markdown",
   "id": "42aed967-dff9-4adc-9a65-a64c37154ae3",
   "metadata": {},
   "source": [
    "Una operacion muy tipitica en las pruebas de programación es saber si un número es para o no. Para ello en python se usa % para obtener el resto. Si el numero es divisible por dos entonces es para, en caso contrario es impar"
   ]
  },
  {
   "cell_type": "code",
   "execution_count": 125,
   "id": "5cdc0edd-a4f7-488d-bded-a02604c56eed",
   "metadata": {},
   "outputs": [
    {
     "name": "stdout",
     "output_type": "stream",
     "text": [
      "El numero es par\n"
     ]
    }
   ],
   "source": [
    "num = 40\n",
    "if num%2 != 0:\n",
    "    print('El numero es impar')\n",
    "else:\n",
    "    print('El numero es par')"
   ]
  },
  {
   "cell_type": "markdown",
   "id": "cd59c0d2-e37e-4914-bf9a-277fe4e726db",
   "metadata": {},
   "source": [
    "Una equivalencia muy basica en las matematicas, es que el cociente de un numero por su divisor mas el resto, es ese numero"
   ]
  },
  {
   "cell_type": "code",
   "execution_count": 130,
   "id": "75a78e28-3391-4479-a155-184642788af0",
   "metadata": {},
   "outputs": [
    {
     "name": "stdout",
     "output_type": "stream",
     "text": [
      "Equivalencia demostrada\n"
     ]
    }
   ],
   "source": [
    "# Variables\n",
    "numero = 87\n",
    "divisor = 13\n",
    "cociente = numero//divisor\n",
    "resto = numero%divisor\n",
    "\n",
    "equivalencia = cociente*divisor + resto\n",
    "\n",
    "if equivalencia == numero:\n",
    "    print('Equivalencia demostrada')\n",
    "else:\n",
    "    print('La cagastes burt lancaster')"
   ]
  },
  {
   "cell_type": "markdown",
   "id": "85e08f2c-90f1-4d1a-98b9-7c8ccec85400",
   "metadata": {},
   "source": [
    "# Funcion para facilitar la impresión de formulas matematicas\n",
    "Esta función recibira la expresion regular matemática y los parametros a incluir, para mostrar toda la cadena formateada"
   ]
  },
  {
   "cell_type": "code",
   "execution_count": 180,
   "id": "514fd4d8-d99a-4e8c-8d18-15ae6e37beb7",
   "metadata": {},
   "outputs": [],
   "source": [
    "def impMat(expresion,variables):\n",
    "    display(Math(expresion %variables))"
   ]
  },
  {
   "cell_type": "code",
   "execution_count": 182,
   "id": "ef0d0a1b-a7c3-4b27-8db2-281ae3274a68",
   "metadata": {},
   "outputs": [
    {
     "data": {
      "text/latex": [
       "$\\displaystyle 3 + 4 = 7$"
      ],
      "text/plain": [
       "<IPython.core.display.Math object>"
      ]
     },
     "metadata": {},
     "output_type": "display_data"
    }
   ],
   "source": [
    "expresion = '%g + %g = %g'\n",
    "parametros = (3,4,7)\n",
    "impMat(expresion,parametros)\n"
   ]
  },
  {
   "cell_type": "markdown",
   "id": "258783fc-ad3f-4c85-ab34-aaee5bf124e3",
   "metadata": {},
   "source": [
    "Un metodo que usaremos a menudo para realizar simulaciones, es `random` del paququete `numpy`"
   ]
  },
  {
   "cell_type": "code",
   "execution_count": 191,
   "id": "9f1d982b-4c8c-422e-8f3d-f1fabb0693f4",
   "metadata": {},
   "outputs": [
    {
     "data": {
      "text/plain": [
       "2"
      ]
     },
     "execution_count": 191,
     "metadata": {},
     "output_type": "execute_result"
    }
   ],
   "source": [
    "aleatorio = random.randint(1,5)\n",
    "aleatorio"
   ]
  },
  {
   "cell_type": "code",
   "execution_count": null,
   "id": "dc7328e8-1a79-4eeb-b9d6-4d7dc8208dc6",
   "metadata": {},
   "outputs": [],
   "source": []
  }
 ],
 "metadata": {
  "kernelspec": {
   "display_name": "Python 3 (ipykernel)",
   "language": "python",
   "name": "python3"
  },
  "language_info": {
   "codemirror_mode": {
    "name": "ipython",
    "version": 3
   },
   "file_extension": ".py",
   "mimetype": "text/x-python",
   "name": "python",
   "nbconvert_exporter": "python",
   "pygments_lexer": "ipython3",
   "version": "3.11.5"
  }
 },
 "nbformat": 4,
 "nbformat_minor": 5
}
