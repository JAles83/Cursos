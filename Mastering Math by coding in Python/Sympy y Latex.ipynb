{
 "cells": [
  {
   "cell_type": "code",
   "execution_count": 30,
   "id": "6b0a8809-c672-499c-93da-6ef47a17df6c",
   "metadata": {},
   "outputs": [],
   "source": [
    "# Necesitamos la libreria sympy para trabajar con matematicas simbolicas\n",
    "import sympy as sym\n",
    "import numpy as np\n",
    "from IPython.display import display, Math\n",
    "# sym.init_printing() # Esta funcion no es necesaria, ya que muestra las incognitas con estilo matematico"
   ]
  },
  {
   "cell_type": "code",
   "execution_count": 10,
   "id": "2e5b49df-50fb-4235-b6f6-7644a80e39f4",
   "metadata": {},
   "outputs": [
    {
     "data": {
      "text/latex": [
       "$\\displaystyle x + 3$"
      ],
      "text/plain": [
       "x + 3"
      ]
     },
     "execution_count": 10,
     "metadata": {},
     "output_type": "execute_result"
    }
   ],
   "source": [
    "# Para establecer incognitas lo hacemos como sigue\n",
    "x,y = sym.symbols('x,y')\n",
    "x+3"
   ]
  },
  {
   "cell_type": "code",
   "execution_count": 17,
   "id": "414f8008-6b09-4c86-9d13-e539fe1b9e1c",
   "metadata": {},
   "outputs": [
    {
     "data": {
      "text/latex": [
       "$\\displaystyle \\frac{x}{y}$"
      ],
      "text/plain": [
       "x/y"
      ]
     },
     "metadata": {},
     "output_type": "display_data"
    }
   ],
   "source": [
    "# Podemos combinar el metodo display con sympy\n",
    "display(x/y)"
   ]
  },
  {
   "cell_type": "code",
   "execution_count": 15,
   "id": "3ae15c11-784e-457a-935c-b55c001f036d",
   "metadata": {},
   "outputs": [
    {
     "data": {
      "text/plain": [
       "1.4142135623730951"
      ]
     },
     "metadata": {},
     "output_type": "display_data"
    },
    {
     "data": {
      "text/latex": [
       "$\\displaystyle \\sqrt{2}$"
      ],
      "text/plain": [
       "sqrt(2)"
      ]
     },
     "metadata": {},
     "output_type": "display_data"
    }
   ],
   "source": [
    "# En la primera expresion tenemos un valor estimado de $\\sqrt{2}$ mientras que en la segunda tenemos el simbolo\n",
    "display(np.sqrt(2))\n",
    "display(sym.sqrt(2))"
   ]
  },
  {
   "cell_type": "code",
   "execution_count": 16,
   "id": "2a03d739-a5ce-4830-b2d8-8b97dc1de48f",
   "metadata": {},
   "outputs": [
    {
     "data": {
      "text/latex": [
       "$\\displaystyle e^{\\frac{\\left(- \\alpha + \\mu\\right)^{2}}{4 \\sigma^{2}}}$"
      ],
      "text/plain": [
       "exp((-alpha + mu)**2/(4*sigma**2))"
      ]
     },
     "metadata": {},
     "output_type": "display_data"
    }
   ],
   "source": [
    "# variables\n",
    "mu,aplha,sigma = sym.symbols('mu,alpha,sigma')\n",
    "\n",
    "expresion= sym.exp((mu-aplha)**2 / (2*sigma)**2)\n",
    "\n",
    "display(expresion)"
   ]
  },
  {
   "cell_type": "markdown",
   "id": "b4183319-8479-443a-a670-7e2ff5bcc30d",
   "metadata": {},
   "source": [
    "Una de la cosas interesantes de la libreria sympy es que nos permite sustituir un valor en una expresion\n"
   ]
  },
  {
   "cell_type": "code",
   "execution_count": 23,
   "id": "8caf4d6a-4509-489a-b92a-a888f64c02d0",
   "metadata": {},
   "outputs": [
    {
     "data": {
      "text/latex": [
       "$\\displaystyle 33$"
      ],
      "text/plain": [
       "33"
      ]
     },
     "execution_count": 23,
     "metadata": {},
     "output_type": "execute_result"
    }
   ],
   "source": [
    "# Expresion\n",
    "ecuacion = x**2 + 8\n",
    "\n",
    "ecuacion.subs(x,5)\n"
   ]
  },
  {
   "cell_type": "markdown",
   "id": "f72dd3bc-b8ea-4c1d-ae78-e323255cc920",
   "metadata": {},
   "source": [
    "En el caso de que hay mas de una incognita, si le pasamos una, pone el resultado en funcion de la otra"
   ]
  },
  {
   "cell_type": "code",
   "execution_count": 24,
   "id": "ff31364a-0bf7-448d-bdb8-4ae62a80a848",
   "metadata": {},
   "outputs": [
    {
     "data": {
      "text/latex": [
       "$\\displaystyle y + 22$"
      ],
      "text/plain": [
       "y + 22"
      ]
     },
     "execution_count": 24,
     "metadata": {},
     "output_type": "execute_result"
    }
   ],
   "source": [
    "ecuacion2 = x**2 + y -3\n",
    "ecuacion2.subs(x,5)"
   ]
  },
  {
   "cell_type": "markdown",
   "id": "3ff005a6-80b6-4fbe-be00-acab293797d8",
   "metadata": {},
   "source": [
    "En el caso de que hay mas de una incognita, deberemos de pasar las incognitas y sus valores con un diccionario"
   ]
  },
  {
   "cell_type": "code",
   "execution_count": 27,
   "id": "dedfc033-dcbc-4741-98d2-d03be485916f",
   "metadata": {},
   "outputs": [
    {
     "data": {
      "text/latex": [
       "$\\displaystyle 25$"
      ],
      "text/plain": [
       "25"
      ]
     },
     "execution_count": 27,
     "metadata": {},
     "output_type": "execute_result"
    }
   ],
   "source": [
    "ecuacion2.subs({x:5,y:3})"
   ]
  },
  {
   "cell_type": "code",
   "execution_count": 40,
   "id": "02737d02-99a9-4c1b-b9a6-6673fd59b920",
   "metadata": {},
   "outputs": [
    {
     "data": {
      "text/latex": [
       "$\\displaystyle 0.75$"
      ],
      "text/plain": [
       "<IPython.core.display.Math object>"
      ]
     },
     "metadata": {},
     "output_type": "display_data"
    },
    {
     "data": {
      "text/latex": [
       "$\\displaystyle \\frac{3}{4}$"
      ],
      "text/plain": [
       "<IPython.core.display.Math object>"
      ]
     },
     "metadata": {},
     "output_type": "display_data"
    }
   ],
   "source": [
    "expr = 3/4\n",
    "# Presenta el problema de que realiza la operación y muestra el resultado, no la fracción\n",
    "display(Math(sym.latex(expr)))\n",
    "\n",
    "# Para ello deberemos de transformar la expresion en un objeto sympy y luego lo mostramos\n",
    "display(Math(sym.latex(sym.simplify('3/4'))))"
   ]
  },
  {
   "cell_type": "markdown",
   "id": "dabd66de-0144-4754-88a6-e9bf4e558bc3",
   "metadata": {},
   "source": [
    "Otra manera muy interesante de mostrar los datos, es a traves del metodo f-string, que consiste en intrdocir a traves de llaves el nombre de las variables a mostrar"
   ]
  },
  {
   "cell_type": "code",
   "execution_count": 42,
   "id": "2aa03d57-71ba-46e3-bc0d-9da9bc20335f",
   "metadata": {},
   "outputs": [
    {
     "name": "stdout",
     "output_type": "stream",
     "text": [
      "Me llamo Patricia y tengo 27 años\n"
     ]
    }
   ],
   "source": [
    "nombre = 'Patricia'\n",
    "edad = 27\n",
    "\n",
    "print(f'Me llamo {nombre} y tengo {edad} años')"
   ]
  },
  {
   "cell_type": "markdown",
   "id": "8181d6db-49d4-470c-8c8a-b3baa9cdf301",
   "metadata": {},
   "source": [
    "En el caso de que tengamos que introducir variables en codigo latex, entre llaves deberemos de usar doble llave"
   ]
  },
  {
   "cell_type": "code",
   "execution_count": 44,
   "id": "93fc158e-233c-45e3-b3d5-56f536c5aba4",
   "metadata": {},
   "outputs": [
    {
     "data": {
      "text/latex": [
       "$\\displaystyle \\frac{{x}}{{y}}$"
      ],
      "text/plain": [
       "<IPython.core.display.Math object>"
      ]
     },
     "metadata": {},
     "output_type": "display_data"
    }
   ],
   "source": [
    "display(Math('\\\\frac{{x}}{{y}}'))"
   ]
  },
  {
   "cell_type": "markdown",
   "id": "fec70a46-ac26-447d-bc07-cb08bbf80812",
   "metadata": {},
   "source": [
    "Lo importante es combinar ambos metodos para simplificar las expresiones en el codigo"
   ]
  },
  {
   "cell_type": "code",
   "execution_count": 48,
   "id": "fadd67ff-b00b-4fe5-bcf2-27a14bff352c",
   "metadata": {},
   "outputs": [
    {
     "data": {
      "text/latex": [
       "$\\displaystyle \\frac{\\frac{3}{x}}{y}$"
      ],
      "text/plain": [
       "<IPython.core.display.Math object>"
      ]
     },
     "metadata": {},
     "output_type": "display_data"
    }
   ],
   "source": [
    "# Al caso anterior vamos a añadirle una expresion en el numerador\n",
    "numerador = 3/x\n",
    "\n",
    "# Podemos observar como el caso se complica mucho con las llaves\n",
    "display(Math(f'\\\\frac{{{sym.latex(numerador)}}}{{{y}}}'))\n",
    "\n",
    "# En cambio obtenemos lo mismo mucho mas simple combinando los metodos\n",
    "Math(f'\\\\frac{{%s}}{{%s}}'%(sym.latex(numerador),y));"
   ]
  },
  {
   "cell_type": "markdown",
   "id": "43f52f3f-d754-4f15-8fbb-8de89bd49461",
   "metadata": {},
   "source": [
    "Importante observar que el metodo display se muestra sin tener que llamarlo en cada linea (Siempre mostrara el ultimo resultado a menos que se explicite su llamada). Si queremos que no se muestre una linea colocamos un punto y coma en ella"
   ]
  },
  {
   "cell_type": "code",
   "execution_count": null,
   "id": "12ac73f5-679e-47e8-9984-224f0a17cabc",
   "metadata": {},
   "outputs": [],
   "source": []
  }
 ],
 "metadata": {
  "kernelspec": {
   "display_name": "Python 3 (ipykernel)",
   "language": "python",
   "name": "python3"
  },
  "language_info": {
   "codemirror_mode": {
    "name": "ipython",
    "version": 3
   },
   "file_extension": ".py",
   "mimetype": "text/x-python",
   "name": "python",
   "nbconvert_exporter": "python",
   "pygments_lexer": "ipython3",
   "version": "3.11.5"
  }
 },
 "nbformat": 4,
 "nbformat_minor": 5
}
