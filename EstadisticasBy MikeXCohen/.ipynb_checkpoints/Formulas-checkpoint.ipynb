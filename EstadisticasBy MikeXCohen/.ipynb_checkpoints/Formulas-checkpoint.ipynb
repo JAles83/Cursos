{
 "cells": [
  {
   "cell_type": "markdown",
   "id": "0fa0a3a6-35fc-4b75-accc-26d13941317a",
   "metadata": {
    "tags": []
   },
   "source": [
    "# Formulas\n",
    "En este documento escirbiremos las principales formulas y sus ejemplos"
   ]
  },
  {
   "cell_type": "code",
   "execution_count": 16,
   "id": "5bc0d1f9-27cf-4037-8fd1-a4bb65912b2e",
   "metadata": {
    "tags": []
   },
   "outputs": [],
   "source": [
    "import random"
   ]
  },
  {
   "cell_type": "markdown",
   "id": "fd81cb44-c028-4376-a2ca-4152d758b179",
   "metadata": {
    "tags": []
   },
   "source": [
    "## Convertir cantidades a proporciones\n",
    "$$bin_i=\\frac{100\\times bin_i}{\\sum(bins)}$$"
   ]
  },
  {
   "cell_type": "code",
   "execution_count": 37,
   "id": "d5fad037-4c3a-4c41-963f-eb8252a45d96",
   "metadata": {
    "tags": []
   },
   "outputs": [
    {
     "name": "stdout",
     "output_type": "stream",
     "text": [
      "{48: 44.03669724770642, 4: 3.669724770642202, 57: 52.293577981651374}\n"
     ]
    }
   ],
   "source": [
    "# Ejemplo de convertir cantidades a sus porcentajes\n",
    "cantidades = [random.randint(1,100) for i in range(3)]\n",
    "sum_cant = sum(cantidades)\n",
    "dict_cant = {}\n",
    "\n",
    "for c in cantidades:\n",
    "    dict_cant[c] = 100*c/sum_cant\n",
    "\n",
    "print(dict_cant)"
   ]
  },
  {
   "cell_type": "code",
   "execution_count": null,
   "id": "b1d85883-fae6-4d95-a92b-3faa29d531c6",
   "metadata": {},
   "outputs": [],
   "source": []
  },
  {
   "cell_type": "code",
   "execution_count": null,
   "id": "6b204f5f-b43c-4742-bddb-e1b8e03d1ad5",
   "metadata": {},
   "outputs": [],
   "source": []
  }
 ],
 "metadata": {
  "kernelspec": {
   "display_name": "Python 3 (ipykernel)",
   "language": "python",
   "name": "python3"
  },
  "language_info": {
   "codemirror_mode": {
    "name": "ipython",
    "version": 3
   },
   "file_extension": ".py",
   "mimetype": "text/x-python",
   "name": "python",
   "nbconvert_exporter": "python",
   "pygments_lexer": "ipython3",
   "version": "3.11.5"
  }
 },
 "nbformat": 4,
 "nbformat_minor": 5
}
