{
 "cells": [
  {
   "cell_type": "markdown",
   "id": "0fa0a3a6-35fc-4b75-accc-26d13941317a",
   "metadata": {
    "tags": []
   },
   "source": [
    "# Formulas\n",
    "En este documento escirbiremos las principales formulas y sus ejemplos"
   ]
  },
  {
   "cell_type": "code",
   "execution_count": 279,
   "id": "5bc0d1f9-27cf-4037-8fd1-a4bb65912b2e",
   "metadata": {
    "tags": []
   },
   "outputs": [],
   "source": [
    "import random\n",
    "import math"
   ]
  },
  {
   "cell_type": "markdown",
   "id": "c7aba8c4-89fb-48ba-bd09-566b5771487d",
   "metadata": {
    "jp-MarkdownHeadingCollapsed": true,
    "tags": []
   },
   "source": [
    "## Memoria"
   ]
  },
  {
   "cell_type": "code",
   "execution_count": 277,
   "id": "b1d85883-fae6-4d95-a92b-3faa29d531c6",
   "metadata": {
    "tags": []
   },
   "outputs": [
    {
     "name": "stdout",
     "output_type": "stream",
     "text": [
      "Don't know how to reset  #, please run `%reset?` for details\n",
      "Don't know how to reset  para, please run `%reset?` for details\n",
      "Don't know how to reset  reiniciar, please run `%reset?` for details\n",
      "Don't know how to reset  las, please run `%reset?` for details\n",
      "Don't know how to reset  variables, please run `%reset?` for details\n",
      "Variable               Type        Data/Info\n",
      "--------------------------------------------\n",
      "c                      str         Elemento 3:\n",
      "dataframe_columns      function    <function dataframe_colum<...>ns at 0x0000026598DB0E00>\n",
      "dataframe_hash         function    <function dataframe_hash at 0x0000026598DB1D00>\n",
      "dato                   str         Elemento 3:\n",
      "datos                  dict        n=3\n",
      "dtypes_str             function    <function dtypes_str at 0x0000026598DB1580>\n",
      "get_dataframes         function    <function get_dataframes at 0x0000026598DB0900>\n",
      "getpass                module      <module 'getpass' from 'C<...>conda3\\\\Lib\\\\getpass.py'>\n",
      "hashlib                module      <module 'hashlib' from 'C<...>conda3\\\\Lib\\\\hashlib.py'>\n",
      "i                      list        n=2\n",
      "import_pandas_safely   function    <function import_pandas_s<...>ly at 0x0000026598DB04A0>\n",
      "is_data_frame          function    <function is_data_frame at 0x0000026598DB13A0>\n",
      "json                   module      <module 'json' from 'C:\\\\<...>\\Lib\\\\json\\\\__init__.py'>\n",
      "math                   module      <module 'math' (built-in)>\n",
      "qty_ptg                dict        n=3\n",
      "qty_ptg_               dict        n=4\n",
      "random                 module      <module 'random' from 'C:<...>aconda3\\\\Lib\\\\random.py'>\n",
      "sum_ptg                float       100.0\n",
      "sum_qty                int         14\n",
      "suma_valores           int         154\n",
      "valores                list        n=6\n"
     ]
    }
   ],
   "source": [
    "%reset -f # Para reiniciar las variables\n",
    "%whos"
   ]
  },
  {
   "cell_type": "markdown",
   "id": "fd81cb44-c028-4376-a2ca-4152d758b179",
   "metadata": {
    "tags": []
   },
   "source": [
    "## Convertir cantidades a proporciones\n",
    "$$bin_i=\\frac{100\\times bin_i}{\\sum(bins)}$$"
   ]
  },
  {
   "cell_type": "code",
   "execution_count": 115,
   "id": "d5fad037-4c3a-4c41-963f-eb8252a45d96",
   "metadata": {
    "tags": []
   },
   "outputs": [
    {
     "name": "stdout",
     "output_type": "stream",
     "text": [
      "{1: 7.142857142857143, 4: 28.571428571428573, 5: 35.714285714285715}\n",
      "{'Elemento1:': [1, 7.142857142857143], 'Elemento2:': [4, 28.571428571428573], 'Elemento3:': [4, 28.571428571428573], 'Elemento4:': [5, 35.714285714285715]}\n",
      "Suma porcentajes: 100.0\n"
     ]
    }
   ],
   "source": [
    "# Ejemplo de convertir cantidades a sus porcentajes\n",
    "# datos = [random.randint(1,100) for i in range(10)]\n",
    "datos = [1,4,4,5]\n",
    "sum_qty = sum(datos)\n",
    "qty_ptg = {}\n",
    "qty_ptg_ = {'Elemento1:':[1],'Elemento2:':[4],'Elemento3:':[4],'Elemento4:':[5]}\n",
    "sum_ptg = 0\n",
    "\n",
    "for c in datos:\n",
    "    qty_ptg[c] = 100*c/sum_qty\n",
    "    sum_ptg += qty_ptg[c]\n",
    "\n",
    "for c in qty_ptg_.keys():\n",
    "    qty_ptg_[c].append(100*qty_ptg_[c][0]/sum_qty)\n",
    "\n",
    "# Mostramos el resultado\n",
    "print(qty_ptg)\n",
    "print(qty_ptg_)\n",
    "print('Suma porcentajes: ' + str(sum_ptg))"
   ]
  },
  {
   "cell_type": "code",
   "execution_count": 289,
   "id": "91cde4b9-1115-4b7f-ad59-cd449d19b873",
   "metadata": {
    "tags": []
   },
   "outputs": [
    {
     "name": "stdout",
     "output_type": "stream",
     "text": [
      "{'Elemento 1:': [73, 10.096818810511756], 'Elemento 2:': [40, 5.532503457814661], 'Elemento 3:': [14, 1.9363762102351314], 'Elemento 4:': [5, 0.6915629322268326], 'Elemento 5:': [84, 11.618257261410788], 'Elemento 6:': [22, 3.0428769017980635], 'Elemento 7:': [4, 0.5532503457814661], 'Elemento 8:': [34, 4.702627939142462], 'Elemento 9:': [70, 9.681881051175656], 'Elemento 10:': [24, 3.319502074688797], 'Elemento 11:': [87, 12.033195020746888], 'Elemento 12:': [82, 11.341632088520056], 'Elemento 13:': [71, 9.820193637621024], 'Elemento 14:': [85, 11.756569847856156], 'Elemento 15:': [28, 3.872752420470263]}\n",
      "99.99999999999999\n"
     ]
    }
   ],
   "source": [
    "#En el caso anterior al usar el numero como clave, se sobreecribian los resultados de esta manera en el caso de \n",
    "#    que hayan repetidos volvemos a escribirlos\n",
    "\n",
    "datos = {'Elemento '+str(i+1)+':':[random.randint(1,100)] for i in range(15)}\n",
    "sum_valores = 0\n",
    "sum_por100 = 0\n",
    "\n",
    "# Obtenemos la suma del Total\n",
    "for dato in datos:\n",
    "    sum_valores += int(datos[dato][0]) \n",
    "\n",
    "# Hacemos el calculo\n",
    "for dato in datos.keys():\n",
    "    datos[dato].append(100*datos[dato][0]/sum_valores) \n",
    "    sum_por100 += datos[dato][1]\n",
    "\n",
    "# Mostramos los resultados\n",
    "print(datos)\n",
    "print(sum_por100)"
   ]
  },
  {
   "cell_type": "code",
   "execution_count": null,
   "id": "e5d03651-fab2-474c-9ef9-fe953be259b2",
   "metadata": {},
   "outputs": [],
   "source": []
  }
 ],
 "metadata": {
  "kernelspec": {
   "display_name": "Python 3 (ipykernel)",
   "language": "python",
   "name": "python3"
  },
  "language_info": {
   "codemirror_mode": {
    "name": "ipython",
    "version": 3
   },
   "file_extension": ".py",
   "mimetype": "text/x-python",
   "name": "python",
   "nbconvert_exporter": "python",
   "pygments_lexer": "ipython3",
   "version": "3.11.5"
  }
 },
 "nbformat": 4,
 "nbformat_minor": 5
}
